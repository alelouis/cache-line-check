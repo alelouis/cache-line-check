{
 "cells": [
  {
   "cell_type": "code",
   "execution_count": null,
   "id": "3a5897fa-02b7-483b-8770-240f18464296",
   "metadata": {},
   "outputs": [],
   "source": [
    "import numpy as np\n",
    "import matplotlib.pyplot as plt\n",
    "\n",
    "%matplotlib inline\n",
    "%config InlineBackend.figure_format='retina'\n",
    "\n",
    "times = np.loadtxt('data.csv', delimiter=',').T\n",
    "\n",
    "plt.figure(dpi=120)\n",
    "plt.plot(times[0], times[1], c='k')\n",
    "plt.yscale('log')\n",
    "plt.xlabel('Stride')\n",
    "plt.ylabel('Time (ms)')\n",
    "plt.axvline(x=32, c ='r')\n",
    "plt.xticks(np.arange(0, 128+16, 16));"
   ]
  },
  {
   "cell_type": "code",
   "execution_count": null,
   "id": "c98705d2-fc38-40a8-a0b3-7ae843aecf74",
   "metadata": {},
   "outputs": [],
   "source": []
  }
 ],
 "metadata": {
  "kernelspec": {
   "display_name": "Python 3 (ipykernel)",
   "language": "python",
   "name": "python3"
  },
  "language_info": {
   "codemirror_mode": {
    "name": "ipython",
    "version": 3
   },
   "file_extension": ".py",
   "mimetype": "text/x-python",
   "name": "python",
   "nbconvert_exporter": "python",
   "pygments_lexer": "ipython3",
   "version": "3.9.12"
  }
 },
 "nbformat": 4,
 "nbformat_minor": 5
}
